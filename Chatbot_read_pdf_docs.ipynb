{
  "nbformat": 4,
  "nbformat_minor": 0,
  "metadata": {
    "colab": {
      "provenance": [],
      "authorship_tag": "ABX9TyO3MxXlI85mD75z11z+eP3M",
      "include_colab_link": true
    },
    "kernelspec": {
      "name": "python3",
      "display_name": "Python 3"
    },
    "language_info": {
      "name": "python"
    }
  },
  "cells": [
    {
      "cell_type": "markdown",
      "metadata": {
        "id": "view-in-github",
        "colab_type": "text"
      },
      "source": [
        "<a href=\"https://colab.research.google.com/github/faiyazansariusa/ColabAI/blob/main/Chatbot_read_pdf_docs.ipynb\" target=\"_parent\"><img src=\"https://colab.research.google.com/assets/colab-badge.svg\" alt=\"Open In Colab\"/></a>"
      ]
    },
    {
      "cell_type": "code",
      "execution_count": null,
      "metadata": {
        "colab": {
          "base_uri": "https://localhost:8080/",
          "height": 686
        },
        "id": "QU0jwf-jTCov",
        "outputId": "6c96a29f-68cf-441c-993e-03a7c3a8b937"
      },
      "outputs": [
        {
          "output_type": "stream",
          "name": "stderr",
          "text": [
            "Device set to use cpu\n",
            "Device set to use cpu\n"
          ]
        },
        {
          "output_type": "stream",
          "name": "stdout",
          "text": [
            "It looks like you are running Gradio on a hosted a Jupyter notebook. For the Gradio app to work, sharing must be enabled. Automatically setting `share=True` (you can turn this off by setting `share=False` in `launch()` explicitly).\n",
            "\n",
            "Colab notebook detected. This cell will run indefinitely so that you can see errors and logs. To turn off, set debug=False in launch().\n",
            "* Running on public URL: https://1687a000e4553baca3.gradio.live\n",
            "\n",
            "This share link expires in 1 week. For free permanent hosting and GPU upgrades, run `gradio deploy` from the terminal in the working directory to deploy to Hugging Face Spaces (https://huggingface.co/spaces)\n"
          ]
        },
        {
          "output_type": "display_data",
          "data": {
            "text/plain": [
              "<IPython.core.display.HTML object>"
            ],
            "text/html": [
              "<div><iframe src=\"https://1687a000e4553baca3.gradio.live\" width=\"100%\" height=\"500\" allow=\"autoplay; camera; microphone; clipboard-read; clipboard-write;\" frameborder=\"0\" allowfullscreen></iframe></div>"
            ]
          },
          "metadata": {}
        }
      ],
      "source": [
        "# Install dependencies\n",
        "!pip install -q transformers gradio pdfplumber python-docx\n",
        "\n",
        "# Import libraries\n",
        "import gradio as gr\n",
        "import pdfplumber\n",
        "from docx import Document\n",
        "from transformers import pipeline\n",
        "\n",
        "# Load models (CPU-compatible)\n",
        "summarizer = pipeline(\"summarization\", model=\"sshleifer/distilbart-cnn-12-6\")\n",
        "qa_pipeline = pipeline(\"question-answering\", model=\"distilbert-base-cased-distilled-squad\")\n",
        "\n",
        "# Global cache for extracted text (to avoid reprocessing)\n",
        "text_cache = {\"text\": \"\"}\n",
        "\n",
        "# Function to extract text from various file types\n",
        "def extract_text(file):\n",
        "    ext = file.name.split('.')[-1].lower()\n",
        "    text = \"\"\n",
        "\n",
        "    try:\n",
        "        if ext == \"pdf\":\n",
        "            with pdfplumber.open(file.name) as pdf:\n",
        "                for page in pdf.pages:\n",
        "                    page_text = page.extract_text()\n",
        "                    if page_text:\n",
        "                        text += page_text + \"\\n\"\n",
        "        elif ext == \"txt\" or ext == \"md\":\n",
        "            text = file.read().decode(\"utf-8\")\n",
        "        elif ext == \"docx\":\n",
        "            doc = Document(file.name)\n",
        "            for para in doc.paragraphs:\n",
        "                text += para.text + \"\\n\"\n",
        "        else:\n",
        "            return \"Unsupported file format.\"\n",
        "\n",
        "        text_cache[\"text\"] = text  # Store text globally\n",
        "        return \"✅ File uploaded and processed successfully!\"\n",
        "    except Exception as e:\n",
        "        return f\"❌ Error: {str(e)}\"\n",
        "\n",
        "# Function to summarize using cached text\n",
        "def summarize_cached_text():\n",
        "    text = text_cache.get(\"text\", \"\")\n",
        "    if not text:\n",
        "        return \"No text found. Please upload a file first.\"\n",
        "    short_text = text[:3000]\n",
        "    summary = summarizer(short_text, max_length=150, min_length=30, do_sample=False)[0]['summary_text']\n",
        "    return summary\n",
        "\n",
        "# Function to answer question using cached text\n",
        "def answer_question_cached(question):\n",
        "    text = text_cache.get(\"text\", \"\")\n",
        "    if not text:\n",
        "        return \"No text found. Please upload a file first.\"\n",
        "    if not question.strip():\n",
        "        return \"Please enter a valid question.\"\n",
        "    short_text = text[:3000]\n",
        "    answer = qa_pipeline(question=question, context=short_text)['answer']\n",
        "    return answer\n",
        "\n",
        "# Gradio UI with shared file input\n",
        "with gr.Blocks() as demo:\n",
        "    gr.Markdown(\"## 📄 Unified File Upload for Summarization & QA (PDF, DOCX, TXT, MD)\")\n",
        "\n",
        "    file_input = gr.File(label=\"📁 Upload a file\", file_types=[\".pdf\", \".txt\", \".docx\", \".md\"])\n",
        "    upload_status = gr.Markdown()\n",
        "\n",
        "    # When file is uploaded, extract and cache the text\n",
        "    file_input.change(fn=extract_text, inputs=file_input, outputs=upload_status)\n",
        "\n",
        "    with gr.Tabs():\n",
        "        with gr.TabItem(\"📄 Summarization\"):\n",
        "            summarize_btn = gr.Button(\"Generate Summary\")\n",
        "            summary_output = gr.Textbox(label=\"Summary\", lines=10)\n",
        "            summarize_btn.click(fn=summarize_cached_text, inputs=None, outputs=summary_output)\n",
        "\n",
        "        with gr.TabItem(\"❓ Question Answering\"):\n",
        "            question_input = gr.Textbox(label=\"Ask your question\", placeholder=\"e.g. What is the conclusion?\")\n",
        "            answer_btn = gr.Button(\"Get Answer\")\n",
        "            answer_output = gr.Textbox(label=\"Answer\", lines=2)\n",
        "            answer_btn.click(fn=answer_question_cached, inputs=question_input, outputs=answer_output)\n",
        "\n",
        "# Launch the app\n",
        "demo.launch(debug=True)\n"
      ]
    }
  ]
}